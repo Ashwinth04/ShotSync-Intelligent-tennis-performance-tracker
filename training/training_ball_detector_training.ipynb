{
 "cells": [
  {
   "cell_type": "code",
   "execution_count": 1,
   "metadata": {},
   "outputs": [
    {
     "name": "stdout",
     "output_type": "stream",
     "text": [
      "Collecting roboflow\n",
      "  Downloading roboflow-1.1.6-py3-none-any.whl.metadata (9.0 kB)\n",
      "Collecting certifi==2022.12.7 (from roboflow)\n",
      "  Downloading certifi-2022.12.7-py3-none-any.whl.metadata (2.9 kB)\n",
      "Collecting chardet==4.0.0 (from roboflow)\n",
      "  Downloading chardet-4.0.0-py2.py3-none-any.whl.metadata (3.5 kB)\n",
      "Collecting cycler==0.10.0 (from roboflow)\n",
      "  Downloading cycler-0.10.0-py2.py3-none-any.whl.metadata (722 bytes)\n",
      "Collecting idna==2.10 (from roboflow)\n",
      "  Downloading idna-2.10-py2.py3-none-any.whl.metadata (9.1 kB)\n",
      "Requirement already satisfied: kiwisolver>=1.3.1 in c:\\users\\dr.g.mahadevan\\appdata\\local\\programs\\python\\python37\\lib\\site-packages (from roboflow) (1.4.5)\n",
      "Requirement already satisfied: matplotlib in c:\\users\\dr.g.mahadevan\\appdata\\local\\programs\\python\\python37\\lib\\site-packages (from roboflow) (3.5.3)\n",
      "Requirement already satisfied: numpy>=1.18.5 in c:\\users\\dr.g.mahadevan\\appdata\\local\\programs\\python\\python37\\lib\\site-packages (from roboflow) (1.21.6)\n",
      "Collecting opencv-python-headless==4.8.0.74 (from roboflow)\n",
      "  Downloading opencv_python_headless-4.8.0.74-cp37-abi3-win_amd64.whl.metadata (19 kB)\n",
      "Requirement already satisfied: Pillow>=7.1.2 in c:\\users\\dr.g.mahadevan\\appdata\\local\\programs\\python\\python37\\lib\\site-packages (from roboflow) (9.4.0)\n",
      "Collecting pyparsing==2.4.7 (from roboflow)\n",
      "  Downloading pyparsing-2.4.7-py2.py3-none-any.whl.metadata (3.6 kB)\n",
      "Requirement already satisfied: python-dateutil in c:\\users\\dr.g.mahadevan\\appdata\\local\\programs\\python\\python37\\lib\\site-packages (from roboflow) (2.8.2)\n",
      "Collecting python-dotenv (from roboflow)\n",
      "  Downloading python_dotenv-0.21.1-py3-none-any.whl.metadata (21 kB)\n",
      "Requirement already satisfied: requests in c:\\users\\dr.g.mahadevan\\appdata\\local\\programs\\python\\python37\\lib\\site-packages (from roboflow) (2.31.0)\n",
      "Requirement already satisfied: six in c:\\users\\dr.g.mahadevan\\appdata\\local\\programs\\python\\python37\\lib\\site-packages (from roboflow) (1.16.0)\n",
      "Collecting supervision (from roboflow)\n",
      "  Downloading supervision-0.11.1-py3-none-any.whl.metadata (12 kB)\n",
      "Requirement already satisfied: urllib3>=1.26.6 in c:\\users\\dr.g.mahadevan\\appdata\\local\\programs\\python\\python37\\lib\\site-packages (from roboflow) (2.0.7)\n",
      "Requirement already satisfied: tqdm>=4.41.0 in c:\\users\\dr.g.mahadevan\\appdata\\local\\programs\\python\\python37\\lib\\site-packages (from roboflow) (4.66.1)\n",
      "Requirement already satisfied: PyYAML>=5.3.1 in c:\\users\\dr.g.mahadevan\\appdata\\local\\programs\\python\\python37\\lib\\site-packages (from roboflow) (6.0.1)\n",
      "Collecting requests-toolbelt (from roboflow)\n",
      "  Downloading requests_toolbelt-1.0.0-py2.py3-none-any.whl.metadata (14 kB)\n",
      "Requirement already satisfied: typing-extensions in c:\\users\\dr.g.mahadevan\\appdata\\local\\programs\\python\\python37\\lib\\site-packages (from kiwisolver>=1.3.1->roboflow) (4.7.1)\n",
      "Requirement already satisfied: colorama in c:\\users\\dr.g.mahadevan\\appdata\\local\\programs\\python\\python37\\lib\\site-packages (from tqdm>=4.41.0->roboflow) (0.4.6)\n",
      "Requirement already satisfied: fonttools>=4.22.0 in c:\\users\\dr.g.mahadevan\\appdata\\local\\programs\\python\\python37\\lib\\site-packages (from matplotlib->roboflow) (4.38.0)\n",
      "Requirement already satisfied: packaging>=20.0 in c:\\users\\dr.g.mahadevan\\appdata\\local\\programs\\python\\python37\\lib\\site-packages (from matplotlib->roboflow) (23.2)\n",
      "Requirement already satisfied: charset-normalizer<4,>=2 in c:\\users\\dr.g.mahadevan\\appdata\\local\\programs\\python\\python37\\lib\\site-packages (from requests->roboflow) (3.3.2)\n",
      "Requirement already satisfied: opencv-python in c:\\users\\dr.g.mahadevan\\appdata\\local\\programs\\python\\python37\\lib\\site-packages (from supervision->roboflow) (4.8.1.78)\n",
      "Downloading roboflow-1.1.6-py3-none-any.whl (58 kB)\n",
      "   ---------------------------------------- 58.7/58.7 kB 440.3 kB/s eta 0:00:00\n",
      "Downloading certifi-2022.12.7-py3-none-any.whl (155 kB)\n",
      "   -------------------------------------- 155.3/155.3 kB 516.1 kB/s eta 0:00:00\n",
      "Downloading chardet-4.0.0-py2.py3-none-any.whl (178 kB)\n",
      "   -------------------------------------- 178.7/178.7 kB 449.3 kB/s eta 0:00:00\n",
      "Downloading cycler-0.10.0-py2.py3-none-any.whl (6.5 kB)\n",
      "Downloading idna-2.10-py2.py3-none-any.whl (58 kB)\n",
      "   ---------------------------------------- 58.8/58.8 kB 344.5 kB/s eta 0:00:00\n",
      "Downloading opencv_python_headless-4.8.0.74-cp37-abi3-win_amd64.whl (38.0 MB)\n",
      "   ---------------------------------------- 38.0/38.0 MB 449.7 kB/s eta 0:00:00\n",
      "Downloading pyparsing-2.4.7-py2.py3-none-any.whl (67 kB)\n",
      "   ---------------------------------------- 67.8/67.8 kB 334.9 kB/s eta 0:00:00\n",
      "Downloading python_dotenv-0.21.1-py3-none-any.whl (19 kB)\n",
      "Downloading requests_toolbelt-1.0.0-py2.py3-none-any.whl (54 kB)\n",
      "   ---------------------------------------- 54.5/54.5 kB 470.6 kB/s eta 0:00:00\n",
      "Downloading supervision-0.11.1-py3-none-any.whl (55 kB)\n",
      "   ---------------------------------------- 55.6/55.6 kB 581.3 kB/s eta 0:00:00\n",
      "Installing collected packages: python-dotenv, pyparsing, opencv-python-headless, idna, cycler, chardet, certifi, supervision, requests-toolbelt, roboflow\n",
      "  Attempting uninstall: pyparsing\n",
      "    Found existing installation: pyparsing 3.1.1\n",
      "    Uninstalling pyparsing-3.1.1:\n",
      "      Successfully uninstalled pyparsing-3.1.1\n",
      "  Attempting uninstall: idna\n",
      "    Found existing installation: idna 3.4\n",
      "    Uninstalling idna-3.4:\n",
      "      Successfully uninstalled idna-3.4\n",
      "  Attempting uninstall: cycler\n",
      "    Found existing installation: cycler 0.11.0\n",
      "    Uninstalling cycler-0.11.0:\n",
      "      Successfully uninstalled cycler-0.11.0\n",
      "  Attempting uninstall: certifi\n",
      "    Found existing installation: certifi 2023.7.22\n",
      "    Uninstalling certifi-2023.7.22:\n",
      "      Successfully uninstalled certifi-2023.7.22\n",
      "Successfully installed certifi-2022.12.7 chardet-4.0.0 cycler-0.10.0 idna-2.10 opencv-python-headless-4.8.0.74 pyparsing-2.4.7 python-dotenv-0.21.1 requests-toolbelt-1.0.0 roboflow-1.1.6 supervision-0.11.1\n"
     ]
    },
    {
     "name": "stderr",
     "output_type": "stream",
     "text": [
      "ERROR: pip's dependency resolver does not currently take into account all the packages that are installed. This behaviour is the source of the following dependency conflicts.\n",
      "tensorflow-intel 2.11.0 requires protobuf<3.20,>=3.9.2, but you have protobuf 3.20.3 which is incompatible.\n"
     ]
    }
   ],
   "source": [
    "!pip install roboflow"
   ]
  },
  {
   "cell_type": "code",
   "execution_count": 2,
   "metadata": {},
   "outputs": [
    {
     "name": "stdout",
     "output_type": "stream",
     "text": [
      "loading Roboflow workspace...\n",
      "loading Roboflow project...\n"
     ]
    },
    {
     "name": "stderr",
     "output_type": "stream",
     "text": [
      "Downloading Dataset Version Zip in tennis-ball-detection-6 to yolov5pytorch:: 100%|█████████████████████████████████████████████████████████████████████████████████████████████████████████████| 52040/52040 [00:05<00:00, 10080.42it/s]"
     ]
    },
    {
     "name": "stdout",
     "output_type": "stream",
     "text": [
      "\n"
     ]
    },
    {
     "name": "stderr",
     "output_type": "stream",
     "text": [
      "\n",
      "Extracting Dataset Version Zip to tennis-ball-detection-6 in yolov5pytorch:: 100%|██████████████████████████████████████████████████████████████████████████████████████████████████████████████████| 1168/1168 [00:09<00:00, 118.59it/s]\n"
     ]
    }
   ],
   "source": [
    "from roboflow import Roboflow\n",
    "rf = Roboflow(api_key=\"1OtfQMnO7O45xYXxse3B\")\n",
    "project = rf.workspace(\"viren-dhanwani\").project(\"tennis-ball-detection\")\n",
    "version = project.version(6)\n",
    "dataset = version.download(\"yolov5\")"
   ]
  },
  {
   "cell_type": "code",
   "execution_count": 3,
   "metadata": {},
   "outputs": [],
   "source": [
    "import shutil"
   ]
  },
  {
   "cell_type": "code",
   "execution_count": 4,
   "metadata": {},
   "outputs": [
    {
     "data": {
      "text/plain": [
       "'tennis-ball-detection-6/tennis-ball-detection-6/train'"
      ]
     },
     "execution_count": 4,
     "metadata": {},
     "output_type": "execute_result"
    }
   ],
   "source": [
    "shutil.move('tennis-ball-detection-6/train','tennis-ball-detection-6/tennis-ball-detection-6/train')"
   ]
  },
  {
   "cell_type": "code",
   "execution_count": 5,
   "metadata": {},
   "outputs": [
    {
     "data": {
      "text/plain": [
       "'tennis-ball-detection-6/tennis-ball-detection-6/valid'"
      ]
     },
     "execution_count": 5,
     "metadata": {},
     "output_type": "execute_result"
    }
   ],
   "source": [
    "shutil.move('tennis-ball-detection-6/test','tennis-ball-detection-6/tennis-ball-detection-6/test')\n",
    "shutil.move('tennis-ball-detection-6/valid','tennis-ball-detection-6/tennis-ball-detection-6/valid')"
   ]
  },
  {
   "cell_type": "code",
   "execution_count": null,
   "metadata": {},
   "outputs": [],
   "source": [
    "!yolo task=detect mode=train model=yolov5l6u.pt data={dataset.location}/data.yaml epochs=100 imgsz=640"
   ]
  },
  {
   "cell_type": "code",
   "execution_count": null,
   "metadata": {},
   "outputs": [],
   "source": []
  }
 ],
 "metadata": {
  "kernelspec": {
   "display_name": "imageclassification",
   "language": "python",
   "name": "imageclassification"
  },
  "language_info": {
   "codemirror_mode": {
    "name": "ipython",
    "version": 3
   },
   "file_extension": ".py",
   "mimetype": "text/x-python",
   "name": "python",
   "nbconvert_exporter": "python",
   "pygments_lexer": "ipython3",
   "version": "3.7.6"
  }
 },
 "nbformat": 4,
 "nbformat_minor": 4
}
